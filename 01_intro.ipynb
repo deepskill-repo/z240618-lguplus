{
 "cells": [
  {
   "cell_type": "markdown",
   "metadata": {},
   "source": [
    "# Warm-up"
   ]
  },
  {
   "cell_type": "markdown",
   "metadata": {},
   "source": [
    "간단한 코드의 예시입니다. 변경/추가해 보면서 테스트해보세요."
   ]
  },
  {
   "cell_type": "code",
   "execution_count": null,
   "metadata": {},
   "outputs": [],
   "source": [
    "1+1"
   ]
  },
  {
   "cell_type": "code",
   "execution_count": null,
   "metadata": {},
   "outputs": [],
   "source": [
    "print(\"Hello World\")"
   ]
  },
  {
   "cell_type": "code",
   "execution_count": null,
   "metadata": {},
   "outputs": [],
   "source": []
  },
  {
   "cell_type": "markdown",
   "metadata": {},
   "source": [
    "아래는 변수(variable)를 설정하는 예시입니다. 초보자 분들께서 자주 하시는 실수를 눈여겨보세요."
   ]
  },
  {
   "cell_type": "code",
   "execution_count": null,
   "metadata": {},
   "outputs": [],
   "source": [
    "a = 1   # 코멘트: 중간 과정을 설명해두면 소통에 도움이 됩니다\n",
    "print(a)"
   ]
  },
  {
   "cell_type": "code",
   "execution_count": null,
   "metadata": {},
   "outputs": [],
   "source": [
    "a = 1\n",
    "print(A)  # <- 이러면 어떻게 될까요?"
   ]
  },
  {
   "cell_type": "code",
   "execution_count": null,
   "metadata": {},
   "outputs": [],
   "source": [
    "# x = 1"
   ]
  },
  {
   "cell_type": "code",
   "execution_count": null,
   "metadata": {},
   "outputs": [],
   "source": [
    "print(x)"
   ]
  },
  {
   "cell_type": "code",
   "execution_count": null,
   "metadata": {},
   "outputs": [],
   "source": []
  },
  {
   "cell_type": "markdown",
   "metadata": {},
   "source": [
    "# 1. 파이썬 vs 엑셀"
   ]
  },
  {
   "cell_type": "code",
   "execution_count": null,
   "metadata": {},
   "outputs": [],
   "source": [
    "# 1.1 math 패키지 불러오기\n",
    "import math\n",
    "\n",
    "# 새로운 패키지 설치\n",
    "# !pip install <새로운 패키지>"
   ]
  },
  {
   "cell_type": "code",
   "execution_count": null,
   "metadata": {},
   "outputs": [],
   "source": [
    "# 1.2 [TASK] pandas 패키지 불러오기\n",
    "import pandas"
   ]
  },
  {
   "cell_type": "code",
   "execution_count": null,
   "metadata": {},
   "outputs": [],
   "source": [
    "# 1.3 엑셀 파일 불러오기\n",
    "pandas.read_excel(\"customer.xlsx\")"
   ]
  },
  {
   "cell_type": "code",
   "execution_count": null,
   "metadata": {},
   "outputs": [],
   "source": [
    "# 1.4 패키지 이름 축약\n",
    "import pandas as pd\n",
    "pd.read_excel(\"customer.xlsx\")"
   ]
  },
  {
   "cell_type": "code",
   "execution_count": null,
   "metadata": {},
   "outputs": [],
   "source": [
    "# 1.5 변수로 저장\n",
    "import pandas as pd\n",
    "customer = pd.read_excel(\"customer.xlsx\")"
   ]
  },
  {
   "cell_type": "code",
   "execution_count": 55,
   "metadata": {},
   "outputs": [
    {
     "data": {
      "text/html": [
       "<div>\n",
       "<style scoped>\n",
       "    .dataframe tbody tr th:only-of-type {\n",
       "        vertical-align: middle;\n",
       "    }\n",
       "\n",
       "    .dataframe tbody tr th {\n",
       "        vertical-align: top;\n",
       "    }\n",
       "\n",
       "    .dataframe thead th {\n",
       "        text-align: right;\n",
       "    }\n",
       "</style>\n",
       "<table border=\"1\" class=\"dataframe\">\n",
       "  <thead>\n",
       "    <tr style=\"text-align: right;\">\n",
       "      <th></th>\n",
       "      <th>customer_id</th>\n",
       "      <th>gender</th>\n",
       "      <th>age</th>\n",
       "      <th>region</th>\n",
       "      <th>membership_start</th>\n",
       "      <th>membership_weeks</th>\n",
       "      <th>service</th>\n",
       "      <th>contract_type</th>\n",
       "      <th>contract_status</th>\n",
       "      <th>payment_method</th>\n",
       "      <th>overdue_amount</th>\n",
       "      <th>promo_amount</th>\n",
       "      <th>billing_amount</th>\n",
       "    </tr>\n",
       "  </thead>\n",
       "  <tbody>\n",
       "    <tr>\n",
       "      <th>0</th>\n",
       "      <td>1</td>\n",
       "      <td>남</td>\n",
       "      <td>71</td>\n",
       "      <td>대전</td>\n",
       "      <td>2018-09-04</td>\n",
       "      <td>302</td>\n",
       "      <td>VoIP</td>\n",
       "      <td>2년 계약</td>\n",
       "      <td>활성</td>\n",
       "      <td>신용카드</td>\n",
       "      <td>0</td>\n",
       "      <td>0</td>\n",
       "      <td>84354</td>\n",
       "    </tr>\n",
       "    <tr>\n",
       "      <th>1</th>\n",
       "      <td>2</td>\n",
       "      <td>여</td>\n",
       "      <td>34</td>\n",
       "      <td>경기</td>\n",
       "      <td>2018-09-02</td>\n",
       "      <td>302</td>\n",
       "      <td>유무선 통신</td>\n",
       "      <td>1년 계약</td>\n",
       "      <td>해지</td>\n",
       "      <td>신용카드</td>\n",
       "      <td>1358</td>\n",
       "      <td>2857</td>\n",
       "      <td>85565</td>\n",
       "    </tr>\n",
       "    <tr>\n",
       "      <th>2</th>\n",
       "      <td>3</td>\n",
       "      <td>남</td>\n",
       "      <td>26</td>\n",
       "      <td>인천</td>\n",
       "      <td>2018-09-09</td>\n",
       "      <td>301</td>\n",
       "      <td>VoIP</td>\n",
       "      <td>2년 계약</td>\n",
       "      <td>활성</td>\n",
       "      <td>은행 자동이체</td>\n",
       "      <td>0</td>\n",
       "      <td>4097</td>\n",
       "      <td>118930</td>\n",
       "    </tr>\n",
       "    <tr>\n",
       "      <th>3</th>\n",
       "      <td>4</td>\n",
       "      <td>남</td>\n",
       "      <td>50</td>\n",
       "      <td>광주</td>\n",
       "      <td>2018-09-15</td>\n",
       "      <td>301</td>\n",
       "      <td>유무선 통신</td>\n",
       "      <td>1년 계약</td>\n",
       "      <td>활성</td>\n",
       "      <td>은행 자동이체</td>\n",
       "      <td>0</td>\n",
       "      <td>0</td>\n",
       "      <td>52723</td>\n",
       "    </tr>\n",
       "    <tr>\n",
       "      <th>4</th>\n",
       "      <td>5</td>\n",
       "      <td>남</td>\n",
       "      <td>70</td>\n",
       "      <td>경기</td>\n",
       "      <td>2018-09-10</td>\n",
       "      <td>301</td>\n",
       "      <td>VoIP</td>\n",
       "      <td>2년 계약</td>\n",
       "      <td>비활성</td>\n",
       "      <td>은행 자동이체</td>\n",
       "      <td>0</td>\n",
       "      <td>4534</td>\n",
       "      <td>84119</td>\n",
       "    </tr>\n",
       "  </tbody>\n",
       "</table>\n",
       "</div>"
      ],
      "text/plain": [
       "   customer_id gender  age region membership_start  membership_weeks service  \\\n",
       "0            1      남   71     대전       2018-09-04               302    VoIP   \n",
       "1            2      여   34     경기       2018-09-02               302  유무선 통신   \n",
       "2            3      남   26     인천       2018-09-09               301    VoIP   \n",
       "3            4      남   50     광주       2018-09-15               301  유무선 통신   \n",
       "4            5      남   70     경기       2018-09-10               301    VoIP   \n",
       "\n",
       "  contract_type contract_status payment_method  overdue_amount  promo_amount  \\\n",
       "0         2년 계약              활성           신용카드               0             0   \n",
       "1         1년 계약              해지           신용카드            1358          2857   \n",
       "2         2년 계약              활성        은행 자동이체               0          4097   \n",
       "3         1년 계약              활성        은행 자동이체               0             0   \n",
       "4         2년 계약             비활성        은행 자동이체               0          4534   \n",
       "\n",
       "   billing_amount  \n",
       "0           84354  \n",
       "1           85565  \n",
       "2          118930  \n",
       "3           52723  \n",
       "4           84119  "
      ]
     },
     "execution_count": 55,
     "metadata": {},
     "output_type": "execute_result"
    }
   ],
   "source": [
    "# 1.6 출력 후 확인\n",
    "import pandas as pd\n",
    "customer = pd.read_excel(\"customer.xlsx\")\n",
    "customer.head()"
   ]
  },
  {
   "cell_type": "code",
   "execution_count": null,
   "metadata": {},
   "outputs": [],
   "source": [
    "# 1.7 데이터 확인\n",
    "# .head()\n",
    "# .info()\n",
    "# .describe()\n",
    "# 위 기능 등을 확인해보세요 예를 들어..\n",
    "customer.info()"
   ]
  },
  {
   "cell_type": "markdown",
   "metadata": {},
   "source": [
    "참고: data.info()의 결과를 챗GPT에게 알려주면 이후 질문을 쉽게 할 수 있습니다"
   ]
  },
  {
   "cell_type": "code",
   "execution_count": null,
   "metadata": {},
   "outputs": [],
   "source": [
    "# 1.8 열 선택\n",
    "customer[\"service\"]"
   ]
  },
  {
   "cell_type": "markdown",
   "metadata": {},
   "source": [
    "참고: 비교 연산자(comparison)\n",
    "\n",
    "* `==` (같음)\n",
    "* `!=` (같지 않음)\n",
    "* `<` (적음)\n",
    "* `>` (큼)\n",
    "* `<=` (적거나 같음)\n",
    "* `>=` (크거나 같음)"
   ]
  },
  {
   "cell_type": "code",
   "execution_count": 56,
   "metadata": {},
   "outputs": [
    {
     "data": {
      "text/html": [
       "<div>\n",
       "<style scoped>\n",
       "    .dataframe tbody tr th:only-of-type {\n",
       "        vertical-align: middle;\n",
       "    }\n",
       "\n",
       "    .dataframe tbody tr th {\n",
       "        vertical-align: top;\n",
       "    }\n",
       "\n",
       "    .dataframe thead th {\n",
       "        text-align: right;\n",
       "    }\n",
       "</style>\n",
       "<table border=\"1\" class=\"dataframe\">\n",
       "  <thead>\n",
       "    <tr style=\"text-align: right;\">\n",
       "      <th></th>\n",
       "      <th>customer_id</th>\n",
       "      <th>gender</th>\n",
       "      <th>age</th>\n",
       "      <th>region</th>\n",
       "      <th>membership_start</th>\n",
       "      <th>membership_weeks</th>\n",
       "      <th>service</th>\n",
       "      <th>contract_type</th>\n",
       "      <th>contract_status</th>\n",
       "      <th>payment_method</th>\n",
       "      <th>overdue_amount</th>\n",
       "      <th>promo_amount</th>\n",
       "      <th>billing_amount</th>\n",
       "    </tr>\n",
       "  </thead>\n",
       "  <tbody>\n",
       "    <tr>\n",
       "      <th>0</th>\n",
       "      <td>1</td>\n",
       "      <td>남</td>\n",
       "      <td>71</td>\n",
       "      <td>대전</td>\n",
       "      <td>2018-09-04</td>\n",
       "      <td>302</td>\n",
       "      <td>VoIP</td>\n",
       "      <td>2년 계약</td>\n",
       "      <td>활성</td>\n",
       "      <td>신용카드</td>\n",
       "      <td>0</td>\n",
       "      <td>0</td>\n",
       "      <td>84354</td>\n",
       "    </tr>\n",
       "    <tr>\n",
       "      <th>2</th>\n",
       "      <td>3</td>\n",
       "      <td>남</td>\n",
       "      <td>26</td>\n",
       "      <td>인천</td>\n",
       "      <td>2018-09-09</td>\n",
       "      <td>301</td>\n",
       "      <td>VoIP</td>\n",
       "      <td>2년 계약</td>\n",
       "      <td>활성</td>\n",
       "      <td>은행 자동이체</td>\n",
       "      <td>0</td>\n",
       "      <td>4097</td>\n",
       "      <td>118930</td>\n",
       "    </tr>\n",
       "    <tr>\n",
       "      <th>3</th>\n",
       "      <td>4</td>\n",
       "      <td>남</td>\n",
       "      <td>50</td>\n",
       "      <td>광주</td>\n",
       "      <td>2018-09-15</td>\n",
       "      <td>301</td>\n",
       "      <td>유무선 통신</td>\n",
       "      <td>1년 계약</td>\n",
       "      <td>활성</td>\n",
       "      <td>은행 자동이체</td>\n",
       "      <td>0</td>\n",
       "      <td>0</td>\n",
       "      <td>52723</td>\n",
       "    </tr>\n",
       "    <tr>\n",
       "      <th>6</th>\n",
       "      <td>7</td>\n",
       "      <td>남</td>\n",
       "      <td>30</td>\n",
       "      <td>광주</td>\n",
       "      <td>2018-09-12</td>\n",
       "      <td>301</td>\n",
       "      <td>VoIP</td>\n",
       "      <td>1년 계약</td>\n",
       "      <td>활성</td>\n",
       "      <td>은행 자동이체</td>\n",
       "      <td>0</td>\n",
       "      <td>2540</td>\n",
       "      <td>81623</td>\n",
       "    </tr>\n",
       "    <tr>\n",
       "      <th>7</th>\n",
       "      <td>8</td>\n",
       "      <td>남</td>\n",
       "      <td>45</td>\n",
       "      <td>대전</td>\n",
       "      <td>2018-09-11</td>\n",
       "      <td>301</td>\n",
       "      <td>유무선 통신</td>\n",
       "      <td>2년 계약</td>\n",
       "      <td>활성</td>\n",
       "      <td>신용카드</td>\n",
       "      <td>1194</td>\n",
       "      <td>3543</td>\n",
       "      <td>99357</td>\n",
       "    </tr>\n",
       "    <tr>\n",
       "      <th>...</th>\n",
       "      <td>...</td>\n",
       "      <td>...</td>\n",
       "      <td>...</td>\n",
       "      <td>...</td>\n",
       "      <td>...</td>\n",
       "      <td>...</td>\n",
       "      <td>...</td>\n",
       "      <td>...</td>\n",
       "      <td>...</td>\n",
       "      <td>...</td>\n",
       "      <td>...</td>\n",
       "      <td>...</td>\n",
       "      <td>...</td>\n",
       "    </tr>\n",
       "    <tr>\n",
       "      <th>993</th>\n",
       "      <td>994</td>\n",
       "      <td>여</td>\n",
       "      <td>43</td>\n",
       "      <td>부산</td>\n",
       "      <td>2021-05-23</td>\n",
       "      <td>160</td>\n",
       "      <td>IPTV</td>\n",
       "      <td>1년 계약</td>\n",
       "      <td>활성</td>\n",
       "      <td>신용카드</td>\n",
       "      <td>1153</td>\n",
       "      <td>3161</td>\n",
       "      <td>80694</td>\n",
       "    </tr>\n",
       "    <tr>\n",
       "      <th>994</th>\n",
       "      <td>995</td>\n",
       "      <td>여</td>\n",
       "      <td>64</td>\n",
       "      <td>인천</td>\n",
       "      <td>2021-05-28</td>\n",
       "      <td>160</td>\n",
       "      <td>IPTV</td>\n",
       "      <td>2년 계약</td>\n",
       "      <td>활성</td>\n",
       "      <td>은행 자동이체</td>\n",
       "      <td>0</td>\n",
       "      <td>3644</td>\n",
       "      <td>94595</td>\n",
       "    </tr>\n",
       "    <tr>\n",
       "      <th>995</th>\n",
       "      <td>996</td>\n",
       "      <td>남</td>\n",
       "      <td>49</td>\n",
       "      <td>인천</td>\n",
       "      <td>2021-05-24</td>\n",
       "      <td>160</td>\n",
       "      <td>IPTV</td>\n",
       "      <td>1년 계약</td>\n",
       "      <td>활성</td>\n",
       "      <td>신용카드</td>\n",
       "      <td>1707</td>\n",
       "      <td>3082</td>\n",
       "      <td>61622</td>\n",
       "    </tr>\n",
       "    <tr>\n",
       "      <th>997</th>\n",
       "      <td>998</td>\n",
       "      <td>여</td>\n",
       "      <td>33</td>\n",
       "      <td>부산</td>\n",
       "      <td>2021-06-01</td>\n",
       "      <td>159</td>\n",
       "      <td>IPTV</td>\n",
       "      <td>2년 계약</td>\n",
       "      <td>활성</td>\n",
       "      <td>은행 자동이체</td>\n",
       "      <td>0</td>\n",
       "      <td>2139</td>\n",
       "      <td>70116</td>\n",
       "    </tr>\n",
       "    <tr>\n",
       "      <th>999</th>\n",
       "      <td>1000</td>\n",
       "      <td>남</td>\n",
       "      <td>34</td>\n",
       "      <td>울산</td>\n",
       "      <td>2021-06-04</td>\n",
       "      <td>159</td>\n",
       "      <td>VoIP</td>\n",
       "      <td>1년 계약</td>\n",
       "      <td>활성</td>\n",
       "      <td>신용카드</td>\n",
       "      <td>1119</td>\n",
       "      <td>3167</td>\n",
       "      <td>83125</td>\n",
       "    </tr>\n",
       "  </tbody>\n",
       "</table>\n",
       "<p>699 rows × 13 columns</p>\n",
       "</div>"
      ],
      "text/plain": [
       "     customer_id gender  age region membership_start  membership_weeks  \\\n",
       "0              1      남   71     대전       2018-09-04               302   \n",
       "2              3      남   26     인천       2018-09-09               301   \n",
       "3              4      남   50     광주       2018-09-15               301   \n",
       "6              7      남   30     광주       2018-09-12               301   \n",
       "7              8      남   45     대전       2018-09-11               301   \n",
       "..           ...    ...  ...    ...              ...               ...   \n",
       "993          994      여   43     부산       2021-05-23               160   \n",
       "994          995      여   64     인천       2021-05-28               160   \n",
       "995          996      남   49     인천       2021-05-24               160   \n",
       "997          998      여   33     부산       2021-06-01               159   \n",
       "999         1000      남   34     울산       2021-06-04               159   \n",
       "\n",
       "    service contract_type contract_status payment_method  overdue_amount  \\\n",
       "0      VoIP         2년 계약              활성           신용카드               0   \n",
       "2      VoIP         2년 계약              활성        은행 자동이체               0   \n",
       "3    유무선 통신         1년 계약              활성        은행 자동이체               0   \n",
       "6      VoIP         1년 계약              활성        은행 자동이체               0   \n",
       "7    유무선 통신         2년 계약              활성           신용카드            1194   \n",
       "..      ...           ...             ...            ...             ...   \n",
       "993    IPTV         1년 계약              활성           신용카드            1153   \n",
       "994    IPTV         2년 계약              활성        은행 자동이체               0   \n",
       "995    IPTV         1년 계약              활성           신용카드            1707   \n",
       "997    IPTV         2년 계약              활성        은행 자동이체               0   \n",
       "999    VoIP         1년 계약              활성           신용카드            1119   \n",
       "\n",
       "     promo_amount  billing_amount  \n",
       "0               0           84354  \n",
       "2            4097          118930  \n",
       "3               0           52723  \n",
       "6            2540           81623  \n",
       "7            3543           99357  \n",
       "..            ...             ...  \n",
       "993          3161           80694  \n",
       "994          3644           94595  \n",
       "995          3082           61622  \n",
       "997          2139           70116  \n",
       "999          3167           83125  \n",
       "\n",
       "[699 rows x 13 columns]"
      ]
     },
     "execution_count": 56,
     "metadata": {},
     "output_type": "execute_result"
    }
   ],
   "source": [
    "# 1.9 필터\n",
    "# 하나씩 시도해보세요\n",
    "# customer[customer[\"contract_status\"] == \"활성\"]\n",
    "# customer[customer[\"age\"] >= 30]\n",
    "# customer[customer[\"age\"] >= 30].reset_index(drop=True)"
   ]
  },
  {
   "cell_type": "code",
   "execution_count": null,
   "metadata": {},
   "outputs": [],
   "source": [
    "# [TASK] 1.10 필터\n",
    "# \"VoIP\" 서비스만 남기려면?\n",
    "\n",
    "# 청구 금액(billing amount) 10만원 이상 고객만 남기려면?\n",
    "\n",
    "# 청구 금액(billing amount) 10만원 이상이면서 프로모션 할인(promo_amount)가 0인 고객만 남기려면?\n"
   ]
  },
  {
   "cell_type": "code",
   "execution_count": null,
   "metadata": {},
   "outputs": [],
   "source": [
    "# 1.11 [TASK] 새로운 열 프로모션 비중(promo_percent) 만들기\n",
    "customer[\"promo_percent\"] = customer[\"_____\"] * customer[\"_____\"]\n",
    "customer"
   ]
  },
  {
   "cell_type": "code",
   "execution_count": null,
   "metadata": {},
   "outputs": [],
   "source": [
    "# 1.12 데이터 요약하기\n",
    "customer[\"billing_amount\"].sum()"
   ]
  },
  {
   "cell_type": "code",
   "execution_count": null,
   "metadata": {},
   "outputs": [],
   "source": [
    "# 1.13 그룹별로 요약하기\n",
    "customer.groupby(\"region\")[\"billing_amount\"].sum()"
   ]
  },
  {
   "cell_type": "code",
   "execution_count": null,
   "metadata": {},
   "outputs": [],
   "source": [
    "# 1.14 [TASK] service 별로 요약하기\n"
   ]
  },
  {
   "cell_type": "code",
   "execution_count": null,
   "metadata": {},
   "outputs": [],
   "source": [
    "# 1.15 여러 열을 이용해 요약하기\n",
    "customer.groupby([\"service\", \"region\"])[\"billing_amount\"].sum()"
   ]
  },
  {
   "cell_type": "code",
   "execution_count": null,
   "metadata": {},
   "outputs": [],
   "source": [
    "# 1.16 회귀 모델 만들기\n",
    "import statsmodels.api as sm\n",
    "\n",
    "# 독립 변수(X)와 종속 변수(y) 정의\n",
    "X = customer[[\"age\", \"membership_weeks\"]]\n",
    "y = customer[\"billing_amount\"]\n",
    "\n",
    "# 선형 회귀 모델 학습\n",
    "linear_model = sm.OLS(y, sm.add_constant(X)).fit()\n",
    "print(linear_model.summary())"
   ]
  },
  {
   "cell_type": "code",
   "execution_count": null,
   "metadata": {},
   "outputs": [],
   "source": [
    "# 1.17 모델로 예측하기\n",
    "predictions = linear_model.predict(sm.add_constant(X))    # 1. 예측을 위한 명령어\n",
    "customer[\"billing_amount_predicted\"] = predictions        # 2. 예측 결과를 별도 열에 저장\n",
    "customer[[\"billing_amount\", \"billing_amount_predicted\"]]  # 3. 실제와 예측을 비교"
   ]
  },
  {
   "cell_type": "code",
   "execution_count": null,
   "metadata": {},
   "outputs": [],
   "source": [
    "# 1.18 [TASK] 결과를 엑셀 파일 \"customer_modelled.xlsx\" 로 출력하기\n",
    "customer._____(\"customer_modelled.xlsx\")"
   ]
  },
  {
   "cell_type": "code",
   "execution_count": null,
   "metadata": {},
   "outputs": [],
   "source": [
    "# 1.19 시각화로 확인하기\n",
    "# 참고: https://plotly.com/python/line-and-scatter/\n",
    "import plotly.express as px\n",
    "fig = px.scatter(customer, x=\"billing_amount\", y=\"billing_amount_predicted\")\n",
    "fig.update_layout(width=800, height=600).show()"
   ]
  }
 ],
 "metadata": {
  "kernelspec": {
   "display_name": "Python 3",
   "language": "python",
   "name": "python3"
  },
  "language_info": {
   "codemirror_mode": {
    "name": "ipython",
    "version": 3
   },
   "file_extension": ".py",
   "mimetype": "text/x-python",
   "name": "python",
   "nbconvert_exporter": "python",
   "pygments_lexer": "ipython3",
   "version": "3.11.7"
  },
  "orig_nbformat": 4
 },
 "nbformat": 4,
 "nbformat_minor": 2
}
